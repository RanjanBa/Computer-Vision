{
 "cells": [
  {
   "cell_type": "code",
   "execution_count": 4,
   "metadata": {},
   "outputs": [],
   "source": [
    "import numpy as np\n",
    "from PIL import Image"
   ]
  },
  {
   "cell_type": "code",
   "execution_count": 6,
   "metadata": {},
   "outputs": [],
   "source": [
    "def negativeImage(img):\n",
    "    img_mat = np.array(img)\n",
    "    if len(img_mat.shape) != 2:\n",
    "        print(\"\\033[91m Image shape is : \", img_mat.shape)\n",
    "        return None\n",
    "    \n",
    "    new_img_mat = np.empty(img_mat.shape, dtype=np.uint8)\n",
    "    \n",
    "    for i in range(img_mat.shape[0]):\n",
    "        for j in range(img_mat.shape[1]):\n",
    "            new_img_mat[i][j] = 255 - img_mat[i][j]\n",
    "            \n",
    "    return Image.fromarray(new_img_mat)"
   ]
  },
  {
   "cell_type": "code",
   "execution_count": null,
   "metadata": {},
   "outputs": [],
   "source": []
  }
 ],
 "metadata": {
  "kernelspec": {
   "display_name": "Python 3",
   "language": "python",
   "name": "python3"
  },
  "language_info": {
   "codemirror_mode": {
    "name": "ipython",
    "version": 3
   },
   "file_extension": ".py",
   "mimetype": "text/x-python",
   "name": "python",
   "nbconvert_exporter": "python",
   "pygments_lexer": "ipython3",
   "version": "3.11.4"
  }
 },
 "nbformat": 4,
 "nbformat_minor": 2
}
