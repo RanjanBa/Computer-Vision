{
 "cells": [
  {
   "cell_type": "code",
   "execution_count": 2,
   "metadata": {},
   "outputs": [],
   "source": [
    "import numpy as np\n",
    "from PIL import Image"
   ]
  },
  {
   "cell_type": "markdown",
   "metadata": {},
   "source": [
    "## <center>__Image Downsampling__</center>\n",
    ">### __Algorithms__ :\n",
    ">   1. Mipmap\n",
    ">\n",
    ">   2. Box Sampling\n",
    ">\n",
    ">   1. Sinc\n",
    ">\n",
    "></br>"
   ]
  },
  {
   "cell_type": "code",
   "execution_count": 4,
   "metadata": {},
   "outputs": [],
   "source": [
    "def _scale_down(img, percentage:float):\n",
    "    img_mat = np.array(img)\n",
    "    new_window = (int(percentage * img_mat.shape[0]), int(percentage * img_mat.shape[1]))"
   ]
  },
  {
   "cell_type": "code",
   "execution_count": null,
   "metadata": {},
   "outputs": [],
   "source": [
    "def _scale_up(img, percentage:float):\n",
    "    pass"
   ]
  },
  {
   "cell_type": "code",
   "execution_count": null,
   "metadata": {},
   "outputs": [],
   "source": [
    "def scale(img, percentage:float):\n",
    "    if percentage == 1.0:\n",
    "        return img\n",
    "    \n",
    "    if percentage > 1.0:\n",
    "        return _scale_up(img, percentage)\n",
    "    else:\n",
    "        return _scale_down(img, percentage)\n",
    "    "
   ]
  },
  {
   "cell_type": "code",
   "execution_count": null,
   "metadata": {},
   "outputs": [],
   "source": [
    "img = Image.open(\"Images/1.jpg\")\n",
    "img_mat = np.array(img)"
   ]
  }
 ],
 "metadata": {
  "kernelspec": {
   "display_name": "Python 3",
   "language": "python",
   "name": "python3"
  },
  "language_info": {
   "codemirror_mode": {
    "name": "ipython",
    "version": 3
   },
   "file_extension": ".py",
   "mimetype": "text/x-python",
   "name": "python",
   "nbconvert_exporter": "python",
   "pygments_lexer": "ipython3",
   "version": "3.11.4"
  }
 },
 "nbformat": 4,
 "nbformat_minor": 2
}
