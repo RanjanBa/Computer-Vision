{
 "cells": [
  {
   "cell_type": "code",
   "execution_count": 1,
   "id": "68eece89-cab4-4adc-8bc0-ec2581f59a66",
   "metadata": {},
   "outputs": [],
   "source": [
    "import numpy as np\n",
    "\n",
    "from PIL import Image"
   ]
  },
  {
   "cell_type": "code",
   "execution_count": null,
   "id": "5dc1074f",
   "metadata": {},
   "outputs": [],
   "source": [
    "def isValidImage(img_mat):\n",
    "    shape = img_mat.shape\n",
    "    if len(shape) == 2 or len(shape) == 3:\n",
    "        return True\n",
    "    \n",
    "    return False"
   ]
  },
  {
   "cell_type": "code",
   "execution_count": 2,
   "id": "6d64f189-60bd-4fa4-a647-6328d67158f2",
   "metadata": {},
   "outputs": [],
   "source": [
    "def isGrayImage(img_mat):\n",
    "    shape = img_mat\n",
    "    if len(shape) == 2:\n",
    "        print(\"\\033[91m Provided Image already a gray scale image.\")\n",
    "        return True\n",
    "    \n",
    "    return False"
   ]
  },
  {
   "cell_type": "markdown",
   "id": "077a9690-9005-4d49-9143-deea6000e51d",
   "metadata": {},
   "source": [
    "# <center>__Average Method__</center>\n",
    "### <center>average value of the components (<span style=\"color:red\">red</span>, <span style=\"color:green\">green</span>, <span style=\"color:blue\">blue</span>) as grayscale value grayscale :</center>\n",
    "### $$ grayscale= \\frac{R + G + B}{3} $$\n"
   ]
  },
  {
   "cell_type": "code",
   "execution_count": 3,
   "id": "48f2c853-dc61-4ce6-b060-592a7baa448d",
   "metadata": {},
   "outputs": [],
   "source": [
    "def averageMethod(img_mat):\n",
    "    new_mat = np.empty((img_mat.shape[0], img_mat.shape[1]), dtype=np.uint8)\n",
    "\n",
    "    for i in range(img_mat.shape[0]):\n",
    "        for j in range(img_mat.shape[1]):\n",
    "            sum = 0\n",
    "            for k in range(img_mat.shape[2]):\n",
    "                sum += img_mat[i][j][k]\n",
    "\n",
    "            sum /= 3\n",
    "            new_mat[i][j] = sum\n",
    "\n",
    "    return new_mat"
   ]
  },
  {
   "cell_type": "markdown",
   "id": "4ea09223-4111-478d-a2bb-4bbea5d2449f",
   "metadata": {},
   "source": [
    "# <center>__Lightness Method__</center>\n",
    "### <center>average value of the components with the highest and lowet value :</center>\n",
    "\n",
    "### $$ grayscale= \\frac{min(R,G,B) + max(R,G,B)}{2} $$\n"
   ]
  },
  {
   "cell_type": "code",
   "execution_count": 4,
   "id": "74a5e4d5-5d61-4960-9a5e-b526da8a8454",
   "metadata": {},
   "outputs": [],
   "source": [
    "def lightnessMethod(img_mat):\n",
    "    new_mat = np.empty((img_mat.shape[0], img_mat.shape[1]), dtype=np.uint8)\n",
    "\n",
    "    for i in range(img_mat.shape[0]):\n",
    "        for j in range(img_mat.shape[1]):\n",
    "            mx = mi = img_mat[i][j][0]\n",
    "            for k in range(1, img_mat.shape[2]):\n",
    "                mi = min(mi, img_mat[i][j][k])\n",
    "                mx = max(mx, img_mat[i][j][k])\n",
    "\n",
    "            sum = int(mi) + mx\n",
    "            new_mat[i][j] = sum / 2\n",
    "\n",
    "    return new_mat"
   ]
  },
  {
   "cell_type": "markdown",
   "id": "4aafd384-7993-43ed-ae7a-1f96ff9f228e",
   "metadata": {},
   "source": [
    "# <center>__Luminosity Method__</center>\n",
    "### $$ grayscale= 0.3 * R + 0.59 * G + 0.11 * B $$"
   ]
  },
  {
   "cell_type": "code",
   "execution_count": 5,
   "id": "21660cbc-6c20-4757-9901-bb7d1e7e66cc",
   "metadata": {},
   "outputs": [],
   "source": [
    "def luminosityMethod(img_mat):\n",
    "    new_mat = np.empty((img_mat.shape[0], img_mat.shape[1]), dtype=np.uint8)\n",
    "\n",
    "    for i in range(img_mat.shape[0]):\n",
    "        for j in range(img_mat.shape[1]):\n",
    "            res = 0;\n",
    "            for k in range(1, img_mat.shape[2]):\n",
    "                multiplier = 0.3\n",
    "                if k == 1:\n",
    "                    multiplier = 0.59\n",
    "                elif k == 2:\n",
    "                    multiplier = 0.11\n",
    "                res += multiplier * img_mat[i][j][k]\n",
    "                \n",
    "            new_mat[i][j] = res\n",
    "\n",
    "    return new_mat"
   ]
  },
  {
   "cell_type": "code",
   "execution_count": 6,
   "id": "4b0267bf-2968-48ce-bcd1-348f0b4ecea0",
   "metadata": {},
   "outputs": [],
   "source": [
    "def convertToGray1(img):\n",
    "    img_mat = np.array(img)\n",
    "    if not isValidImage(img_mat):\n",
    "        return None\n",
    "    \n",
    "    if isGrayImage(img_mat):\n",
    "        return img_mat\n",
    "\n",
    "    new_img_mat = averageMethod(img_mat)\n",
    "\n",
    "    return Image.fromarray(new_img_mat)"
   ]
  },
  {
   "cell_type": "code",
   "execution_count": 7,
   "id": "4b4a13d3-0dda-43f5-b00e-548916c68459",
   "metadata": {},
   "outputs": [],
   "source": [
    "def convertToGray2(img):\n",
    "    img_mat = np.array(img)\n",
    "    \n",
    "    if not isValidImage(img_mat):\n",
    "        return None\n",
    "    \n",
    "    if isGrayImage(img_mat):\n",
    "        return img_mat\n",
    "    \n",
    "    new_img_mat = lightnessMethod(img_mat)\n",
    "\n",
    "    return Image.fromarray(new_img_mat)"
   ]
  },
  {
   "cell_type": "code",
   "execution_count": 8,
   "id": "f7e3fe03-90ad-4e0f-9246-621e3ca0b215",
   "metadata": {},
   "outputs": [],
   "source": [
    "def convertToGray3(img):\n",
    "    img_mat = np.array(img)\n",
    "    \n",
    "    if not isValidImage(img_mat):\n",
    "        return None\n",
    "    \n",
    "    if isGrayImage(img_mat):\n",
    "        return img_mat\n",
    "    \n",
    "    new_img_mat = luminosityMethod(img_mat)\n",
    "\n",
    "    return Image.fromarray(new_img_mat)"
   ]
  },
  {
   "cell_type": "code",
   "execution_count": 9,
   "id": "d85ab887-1dfb-4ac1-8ae8-89718cc66ba6",
   "metadata": {},
   "outputs": [],
   "source": [
    "def showConvertedImage(path:str):\n",
    "    img = Image.open(path)\n",
    "    \n",
    "    pil_gray_img = img.convert(\"L\")\n",
    "    gray_img1 = convertToGray1(img)\n",
    "    gray_img2 = convertToGray2(img)\n",
    "    gray_img3 = convertToGray3(img)\n",
    "    \n",
    "    import matplotlib.pyplot as plt\n",
    "    fg, axs = plt.subplots(1, 5, figsize=(20, 20))\n",
    "    axs[0].imshow(img)\n",
    "    axs[0].axis(\"off\")\n",
    "    axs[0].set_title(\"RGB\")\n",
    "    \n",
    "    axs[1].imshow(pil_gray_img, cmap=\"gray\")\n",
    "    axs[1].axis(\"off\")\n",
    "    axs[1].set_title(\"PIL Gray\")\n",
    "    \n",
    "    axs[2].imshow(gray_img1, cmap=\"gray\")\n",
    "    axs[2].axis(\"off\")\n",
    "    axs[2].set_title(\"Gray (Average Method)\")\n",
    "    \n",
    "    axs[3].imshow(gray_img2, cmap=\"gray\")\n",
    "    axs[3].axis(\"off\")\n",
    "    axs[3].set_title(\"Gray (Lightness Method)\")\n",
    "    \n",
    "    axs[4].imshow(gray_img3, cmap=\"gray\")\n",
    "    axs[4].axis(\"off\")\n",
    "    axs[4].set_title(\"Gray (Luminosity Method)\")\n",
    "    \n",
    "    plt.show()"
   ]
  },
  {
   "cell_type": "code",
   "execution_count": 10,
   "id": "cc4b147d-6463-4d8d-b422-0438f62a02bb",
   "metadata": {},
   "outputs": [],
   "source": [
    "def showImageChannels(path:str):\n",
    "    img = Image.open(path)\n",
    "\n",
    "    img_mat = np.array(img)\n",
    "    \n",
    "    import matplotlib.pyplot as plt\n",
    "    fg, axs = plt.subplots(1, 4, figsize=(20, 20))\n",
    "    \n",
    "    axs[0].imshow(img)\n",
    "    axs[0].axis(\"off\")\n",
    "    axs[0].set_title(\"RGB\")\n",
    "    \n",
    "    axs[1].imshow(img_mat[:,:,0], cmap=\"Reds\")\n",
    "    axs[1].axis(\"off\")\n",
    "    axs[1].set_title(\"Red\")\n",
    "    \n",
    "    axs[2].imshow(img_mat[:,:,1], cmap=\"Greens\")\n",
    "    axs[2].axis(\"off\")\n",
    "    axs[2].set_title(\"Green\")\n",
    "    \n",
    "    axs[3].imshow(img_mat[:,:,2], cmap=\"Blues\")\n",
    "    axs[3].axis(\"off\")\n",
    "    axs[3].set_title(\"Blue\")\n",
    "    \n",
    "    plt.show()"
   ]
  },
  {
   "cell_type": "code",
   "execution_count": null,
   "id": "1de44dcd",
   "metadata": {},
   "outputs": [],
   "source": []
  }
 ],
 "metadata": {
  "kernelspec": {
   "display_name": "Python 3 (ipykernel)",
   "language": "python",
   "name": "python3"
  },
  "language_info": {
   "codemirror_mode": {
    "name": "ipython",
    "version": 3
   },
   "file_extension": ".py",
   "mimetype": "text/x-python",
   "name": "python",
   "nbconvert_exporter": "python",
   "pygments_lexer": "ipython3",
   "version": "3.11.4"
  }
 },
 "nbformat": 4,
 "nbformat_minor": 5
}
