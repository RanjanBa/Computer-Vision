{
 "cells": [
  {
   "cell_type": "code",
   "execution_count": 56,
   "metadata": {},
   "outputs": [],
   "source": [
    "import numpy as np"
   ]
  },
  {
   "cell_type": "code",
   "execution_count": 1,
   "metadata": {},
   "outputs": [],
   "source": [
    "def grayLevelCoMatrix(img, distance : int, angle : int, levels : int):\n",
    "    img_mat = np.array(img)\n",
    "    \n",
    "    if len(img_mat.shape) != 2:\n",
    "        print(\"\\033[91m Can't find gray level co-matrix. Since given image isn't a gray image\")\n",
    "        return None\n",
    "    \n",
    "    glcm_matrix = np.zeros((levels, levels), dtype=np.uint64)\n",
    "    \n",
    "    angle = angle * np.pi / 180\n",
    "    \n",
    "    dx = distance * round(np.cos(angle))\n",
    "    dy = -1 * distance * round(np.sin(angle))\n",
    "    \n",
    "    for i in range(img_mat.shape[0]):\n",
    "        for j in range(img_mat.shape[1]):\n",
    "            if i + dy >= 0 and i + dy < img_mat.shape[0] and j + dx >= 0 and j + dx < img_mat.shape[1]:\n",
    "                c = img_mat[i][j]\n",
    "                r = img_mat[i+dy][j+dx]\n",
    "                glcm_matrix[c][r] += 1\n",
    "                \n",
    "    return glcm_matrix"
   ]
  },
  {
   "cell_type": "code",
   "execution_count": null,
   "metadata": {},
   "outputs": [],
   "source": [
    "def normalizedGrayLevelCoMatrix(img, distance: int, angle: int, levels: int):\n",
    "    glcm_matrix = grayLevelCoMatrix(img, distance, angle, levels)\n",
    "    \n",
    "    sum = 0\n",
    "    \n",
    "    glcm_normalized = np.empty(glcm_matrix.shape, dtype=np.float64)\n",
    "    \n",
    "    for i in range(glcm_matrix.shape[0]):\n",
    "        for j in range(glcm_matrix.shape[1]):\n",
    "            sum += glcm_matrix[i][j]\n",
    "\n",
    "    for i in range(glcm_matrix.shape[0]):\n",
    "        for j in range(glcm_matrix.shape[1]):\n",
    "            glcm_normalized[i][j] = glcm_matrix[i][j] / float(sum)\n",
    "            \n",
    "    return glcm_normalized"
   ]
  },
  {
   "cell_type": "code",
   "execution_count": null,
   "metadata": {},
   "outputs": [],
   "source": [
    "def getASMFeature(normalized_glcm_matrix):\n",
    "    asm = 0.0\n",
    "    for i in range(normalized_glcm_matrix.shape[0]):\n",
    "        for j in range(normalized_glcm_matrix.shape[1]):\n",
    "            asm += normalized_glcm_matrix[i][j] * normalized_glcm_matrix[i][j]\n",
    "\n",
    "    return asm"
   ]
  },
  {
   "cell_type": "code",
   "execution_count": 1,
   "metadata": {},
   "outputs": [],
   "source": [
    "def getEnergyFeature(normalized_glcm_matrix):\n",
    "    return np.sqrt(getASMFeature(normalized_glcm_matrix))"
   ]
  },
  {
   "cell_type": "code",
   "execution_count": null,
   "metadata": {},
   "outputs": [],
   "source": [
    "def getContrastFeature(normalized_glcm_matrix):\n",
    "    contrast = 0.0\n",
    "    \n",
    "    for i in range(normalized_glcm_matrix.shape[0]):\n",
    "        for j in range(normalized_glcm_matrix.shape[1]):\n",
    "            contrast += normalized_glcm_matrix[i][j] * ((i - j) ** 2)\n",
    "            \n",
    "    return contrast"
   ]
  },
  {
   "cell_type": "code",
   "execution_count": null,
   "metadata": {},
   "outputs": [],
   "source": [
    "def getDissimilarityFeature(normalized_glcm_matrix):\n",
    "    dissimilarity = 0.0\n",
    "    \n",
    "    for i in range(normalized_glcm_matrix.shape[0]):\n",
    "        for j in range(normalized_glcm_matrix.shape[1]):\n",
    "            dissimilarity += normalized_glcm_matrix[i][j] * np.abs(i - j)\n",
    "    \n",
    "    return dissimilarity"
   ]
  },
  {
   "cell_type": "code",
   "execution_count": null,
   "metadata": {},
   "outputs": [],
   "source": [
    "def getHomogeneityFeature(normalized_glcm_matrix):\n",
    "    homogeneity = 0.0\n",
    "    \n",
    "    for i in range(normalized_glcm_matrix.shape[0]):\n",
    "        for j in range(normalized_glcm_matrix.shape[1]):\n",
    "            homogeneity += (normalized_glcm_matrix[i][j] / (1 + (i - j) ** 2))\n",
    "            \n",
    "    return homogeneity"
   ]
  },
  {
   "cell_type": "code",
   "execution_count": null,
   "metadata": {},
   "outputs": [],
   "source": [
    "def getCorrelationFeature(normalized_glcm_matrix):\n",
    "    correlation = 0.0\n",
    "    \n",
    "    levels = normalized_glcm_matrix.shape[0]\n",
    "    \n",
    "    mean_i = [[np.sum(normalized_glcm_matrix * i)] for i in range(levels)]\n",
    "    mean_j = [[np.sum(normalized_glcm_matrix * i) for i in range(levels)]]\n",
    "    \n",
    "    for i in range(normalized_glcm_matrix.shape[0]):\n",
    "        for j in range(normalized_glcm_matrix.shape[1]):\n",
    "            correlation += normalized_glcm_matrix[i][j] * np.sum()"
   ]
  }
 ],
 "metadata": {
  "kernelspec": {
   "display_name": "Python 3",
   "language": "python",
   "name": "python3"
  },
  "language_info": {
   "codemirror_mode": {
    "name": "ipython",
    "version": 3
   },
   "file_extension": ".py",
   "mimetype": "text/x-python",
   "name": "python",
   "nbconvert_exporter": "python",
   "pygments_lexer": "ipython3",
   "version": "3.11.4"
  }
 },
 "nbformat": 4,
 "nbformat_minor": 2
}
