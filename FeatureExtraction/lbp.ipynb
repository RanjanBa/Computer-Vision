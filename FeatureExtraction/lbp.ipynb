{
 "cells": [
  {
   "cell_type": "code",
   "execution_count": 1,
   "metadata": {},
   "outputs": [],
   "source": [
    "import numpy as np"
   ]
  },
  {
   "cell_type": "code",
   "execution_count": null,
   "metadata": {},
   "outputs": [],
   "source": [
    "def getPixel(img, i, j):\n",
    "    pixel = 0\n",
    "    try:\n",
    "        pixel = img[i][j]\n",
    "    except:\n",
    "        pass\n",
    "    \n",
    "    return pixel\n",
    "\n",
    "def lbp(img):\n",
    "    size = 3\n",
    "    \n",
    "    new_img = np.zeros((len(img), len(img[0])), np.uint8)\n",
    "    \n",
    "    for i in range(len(img)):\n",
    "        for j in range(len(img[0])):\n",
    "            mat = np.zeros((size, size), np.uint8)\n",
    "            for k in range(size):\n",
    "                for l in range(size):\n",
    "                    if k == 0 and l == 0:\n",
    "                        continue\n",
    "                    v = getPixel(img, i + k, j + l)\n",
    "                    \n",
    "                    if v >= img[i][j]:\n",
    "                        mat[k][l] = 1\n",
    "            \n",
    "            arr = []\n",
    "            for k in range(3):\n",
    "                arr.append(mat[0][k])\n",
    "            \n",
    "            for k in range(1, 3):\n",
    "                arr.append(mat[k][2])\n",
    "                \n",
    "            for k in range(2, 0, -1):\n",
    "                arr.append(mat[2][k])\n",
    "                \n",
    "            arr.append(mat[1][0])\n",
    "            \n",
    "            res = 0\n",
    "\n",
    "            for idx, v in enumerate(arr):\n",
    "                if v == 1:\n",
    "                    res += pow(2, len(arr) - 1 - idx)\n",
    "            \n",
    "            new_img[i][j] = res\n",
    "            \n",
    "    return new_img"
   ]
  }
 ],
 "metadata": {
  "kernelspec": {
   "display_name": "Python 3",
   "language": "python",
   "name": "python3"
  },
  "language_info": {
   "codemirror_mode": {
    "name": "ipython",
    "version": 3
   },
   "file_extension": ".py",
   "mimetype": "text/x-python",
   "name": "python",
   "nbconvert_exporter": "python",
   "pygments_lexer": "ipython3",
   "version": "3.11.4"
  }
 },
 "nbformat": 4,
 "nbformat_minor": 2
}
